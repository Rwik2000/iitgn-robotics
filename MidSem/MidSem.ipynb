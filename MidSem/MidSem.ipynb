{
 "cells": [
  {
   "cell_type": "code",
   "execution_count": 1,
   "metadata": {},
   "outputs": [],
   "source": [
    "# Rwik Rana\n",
    "\n",
    "import numpy as np\n",
    "from scipy.optimize import fsolve\n",
    "from scipy.spatial.transform import Rotation "
   ]
  },
  {
   "cell_type": "code",
   "execution_count": 3,
   "metadata": {},
   "outputs": [],
   "source": [
    "def angle_wrap(angle):\n",
    "    a = angle%(2*np.pi)\n",
    "    if abs(a - 2*np.pi)<1e-3:\n",
    "        a = 0\n",
    "    return (a)"
   ]
  },
  {
   "cell_type": "code",
   "execution_count": 4,
   "metadata": {},
   "outputs": [],
   "source": [
    "class DH_Calculator():\n",
    "    def __init__(self,dh_params, config=['R','R']):\n",
    "        # configuration of the manipulator. User has 2 choices \"R\"->revolute. \"P\"->prismatic.\n",
    "        # Default configuration is a 2R manipulator with all the angles at 0 degrees and lengths being 1 unit.\n",
    "        self.config = config \n",
    "        # User must input the dh parameters in matrix form i.e. \"R\"->revolute\n",
    "        # [[a1 , alpha1 , d1, theta1]\n",
    "        #  [a2 , alpha2 , d2, theta2]\n",
    "        #  .\n",
    "        #  .\n",
    "        #  .\n",
    "        #  [an , alphan , dn, thetan]]\n",
    "        # n being the nth link of the manipulator.\n",
    "        self.dh=dh_params\n",
    "    \n",
    "    def calc_tranfMatrix(self, dh_params,i):\n",
    "        # Calculating Trnasformation matrix\n",
    "        a, alpha,d,theta = dh_params\n",
    "        A = np.array([[np.cos(theta), -np.sin(theta)*np.cos(alpha),  np.sin(theta)*np.sin(alpha), a*np.cos(theta)],\n",
    "                      [np.sin(theta),  np.cos(theta)*np.cos(alpha), -np.cos(theta)*np.sin(alpha), a*np.sin(theta)],\n",
    "                      [            0,                np.sin(alpha),                np.cos(alpha),               d],\n",
    "                      [            0,                            0,                            0,               1]])\n",
    "        return A \n",
    "\n",
    "    def find_DH(self,):\n",
    "        tr=self.calc_tranfMatrix(self.dh[0],0)\n",
    "        Trs = [tr]\n",
    "        # Calculating the individual transformation matrices. And appending to the T matrix in the following form.\n",
    "        # A1\n",
    "        # A1A2\n",
    "        # A1A2A3 ... \n",
    "        for i in range(len(self.dh)-1):\n",
    "            tr = np.matmul(tr,self.calc_tranfMatrix(self.dh[i+1],i+1))\n",
    "            Trs.append(tr)\n",
    "\n",
    "        transformation_matrix = np.array(Trs)\n",
    "\n",
    "        return {'transformation_matrices':transformation_matrix}"
   ]
  },
  {
   "cell_type": "markdown",
   "metadata": {},
   "source": [
    "# Question 1 \n",
    "## Part A,B,C\n",
    "### Inverse Kinematics and workspace - PUMA"
   ]
  },
  {
   "cell_type": "code",
   "execution_count": 14,
   "metadata": {},
   "outputs": [],
   "source": [
    "class PUMA():\n",
    "    def __init__(self,d1=1,a2=1,a3=1):\n",
    "        self.d1 = d1\n",
    "        self.a2 = a2\n",
    "        self.a3 = a3\n",
    "\n",
    "    def inverse_kinematics(self,xc,yc,zc):\n",
    "        # solutions = []\n",
    "        # theta1 = np.arctan2(yc,xc)\n",
    "        D = (xc**2 + yc**2 + (zc-self.d1)**2 - self.a2**2 - self.a3**2)/(2*self.a2*self.a3)\n",
    "        if abs(D)<=1:\n",
    "            def inv_func(x):\n",
    "                return [\n",
    "                        -xc + self.a2*np.cos(x[1])*np.cos(x[0]) + self.a3*np.cos(x[1]+x[2])*np.cos(x[0]),\n",
    "                        -yc + self.a2*np.cos(x[1])*np.sin(x[0]) + self.a3*np.cos(x[1]+x[2])*np.sin(x[0]),\n",
    "                        -zc + self.d1 + self.a2*np.sin(x[1]) + self.a3*np.sin(x[1]+x[2])\n",
    "                        ]\n",
    "            root = fsolve(inv_func,[0,0,0])\n",
    "            q1,q2,q3 = root\n",
    "            \n",
    "            return True, [angle_wrap(q1),angle_wrap(q2),angle_wrap(q3)]\n",
    "        else:\n",
    "            print(\"Angles provided not in workspace\")\n",
    "            return False, [None, None, None]\n",
    "    \n",
    "    def forward_kinematics(self,q1,q2,q3):\n",
    "        xc = self.a2*np.cos(q2)*np.cos(q1) + self.a3*np.cos(q2+q3)*np.cos(q1)\n",
    "        yc = self.a2*np.cos(q2)*np.sin(q1) + self.a3*np.cos(q2+q3)*np.sin(q1)\n",
    "        zc = self.d1 + self.a2*np.sin(q2) + self.a3*np.sin(q2+q3)\n",
    "\n",
    "        return xc,yc,zc\n",
    "\n",
    "\n"
   ]
  },
  {
   "cell_type": "code",
   "execution_count": 15,
   "metadata": {},
   "outputs": [
    {
     "data": {
      "text/plain": [
       "(True, [1.0303768286731831, 4.888222186419746, 2.7899262411211225])"
      ]
     },
     "execution_count": 15,
     "metadata": {},
     "output_type": "execute_result"
    }
   ],
   "source": [
    "puma = PUMA(d1 = 0.25,a2=0.25, a3 = 0.25)\n",
    "xc,yc,zc = puma.forward_kinematics(0,0,0)\n",
    "# Verifying\n",
    "puma.inverse_kinematics(xc,yc,zc)\n",
    "\n",
    "puma.inverse_kinematics(0.045,0.075,0.25)"
   ]
  },
  {
   "cell_type": "markdown",
   "metadata": {},
   "source": [
    "All the four points specified can be reached by the manipulator."
   ]
  },
  {
   "cell_type": "markdown",
   "metadata": {},
   "source": [
    "### Inverse Kinematics and workspace - Stanford"
   ]
  },
  {
   "cell_type": "code",
   "execution_count": 7,
   "metadata": {},
   "outputs": [],
   "source": [
    "class Stanford():\n",
    "    def __init__(self,d1=1,a2=1):\n",
    "        self.d1 = d1\n",
    "        self.a2 = a2    \n",
    "        self.max_primatic = 0.25\n",
    "    def inverse_kinematics(self,xc,yc,zc):\n",
    "        \n",
    "        condition = xc**2 + yc**2 + (zc**2 - self.d1)**2 - (self.a2**2 + self.max_primatic**2) <= 0 and abs(zc - self.d1)<=self.max_primatic and xc**2 + yc**2>=self.a2**2\n",
    "        if condition:\n",
    "      \n",
    "            def inv_func(x):\n",
    "                return [\n",
    "                        self.a2*np.cos(x[0]) + x[2]*np.sin(x[1])*np.sin(x[0]) - xc,\n",
    "                        self.a2*np.sin(x[0]) + x[2]*np.sin(x[1])*np.cos(x[0]) - yc,\n",
    "                        self.d1 + x[2]*np.cos(x[1]) - zc\n",
    "                        ]\n",
    "            root = fsolve(inv_func,[0,0,0])\n",
    "\n",
    "            q1,q2,d = root\n",
    "\n",
    "            return True,[angle_wrap(q1),angle_wrap(q2),angle_wrap(d)]\n",
    "        else:\n",
    "            print(\"No Solution can be Found!\")\n",
    "            return False,[None, None, None]\n",
    "    \n",
    "    def forward_kinematics(self,q1,q2,d):\n",
    "\n",
    "        xc = self.a2*np.cos(q1) + d*np.sin(q2)*np.sin(q1)\n",
    "        yc = self.a2*np.sin(q1) + d*np.sin(q2)*np.cos(q1)\n",
    "        zc = self.d1 + d*np.cos(q2)\n",
    "\n",
    "        return xc,yc,zc"
   ]
  },
  {
   "cell_type": "code",
   "execution_count": 41,
   "metadata": {},
   "outputs": [
    {
     "name": "stdout",
     "output_type": "stream",
     "text": [
      "No Solution can be Found!\n"
     ]
    },
    {
     "data": {
      "text/plain": [
       "(False, [None, None, None])"
      ]
     },
     "execution_count": 41,
     "metadata": {},
     "output_type": "execute_result"
    }
   ],
   "source": [
    "stan = Stanford(d1 = 0.3,a2 = 0.3)\n",
    "xc,yc,zc = stan.forward_kinematics(0,0,0)\n",
    "# Verifying\n",
    "stan.inverse_kinematics(xc,yc,zc)\n",
    "\n",
    "stan.inverse_kinematics(0.45,0.075,0.25)\n",
    "\n",
    "\n"
   ]
  },
  {
   "cell_type": "markdown",
   "metadata": {},
   "source": [
    "Solution cannot be found using the given link lengths"
   ]
  },
  {
   "cell_type": "markdown",
   "metadata": {},
   "source": [
    "All four points can be reached by the manipulator."
   ]
  },
  {
   "cell_type": "markdown",
   "metadata": {},
   "source": [
    "### Inverse Kinematics and workspace - SCARA"
   ]
  },
  {
   "cell_type": "code",
   "execution_count": 11,
   "metadata": {},
   "outputs": [],
   "source": [
    "class SCARA():\n",
    "    def __init__(self,d1=1,a1 = 1, a2=1):\n",
    "        self.d1 = d1\n",
    "        self.a1 = a1\n",
    "        self.a2 = a2\n",
    "        # self.a3 = a3\n",
    "    \n",
    "\n",
    "    def inverse_kinematics(self,xc,yc,zc):\n",
    "        if np.sqrt(xc**2+yc**2)>self.a2 + self.a1:\n",
    "            print(\"No Solution can be Found!\")\n",
    "            return False,[None, None, None]\n",
    "        else: \n",
    "            def inv_func(x):\n",
    "                return [\n",
    "                        - xc + self.a1*np.cos(x[0]) + self.a2*np.cos(x[0]+x[1]),\n",
    "                        - yc + self.a1*np.sin(x[0]) + self.a2*np.sin(x[0]+x[1]),\n",
    "                        - zc + self.d1 - x[2]\n",
    "                        ]\n",
    "            root = fsolve(inv_func,[1,1,1])\n",
    "\n",
    "            q1,q2,d = root\n",
    "\n",
    "            return True, [angle_wrap(q1),angle_wrap(q2),d]\n",
    "    \n",
    "    def forward_kinematics(self,q1,q2,d):\n",
    "\n",
    "        xc = self.a1*np.cos(q1) + self.a2*np.cos(q1+q2)\n",
    "        yc = self.a1*np.sin(q1) + self.a2*np.sin(q1+q2)\n",
    "        zc = self.d1 - d\n",
    "\n",
    "        return xc,yc,zc"
   ]
  },
  {
   "cell_type": "code",
   "execution_count": 42,
   "metadata": {},
   "outputs": [
    {
     "data": {
      "text/plain": [
       "(True, [6.026682730197592, 0.8433025087933409, 5.92252228224341e-37])"
      ]
     },
     "execution_count": 42,
     "metadata": {},
     "output_type": "execute_result"
    }
   ],
   "source": [
    "scara= SCARA(d1 = 0.25,a1 = 0.25 , a2 = 0.25)\n",
    "a,b,c = scara.forward_kinematics(np.pi/2,0,2)\n",
    "# Verifying\n",
    "_,k = scara.inverse_kinematics(a,b,c)\n",
    "\n",
    "scara.inverse_kinematics(0.45,0.075,0.25)"
   ]
  },
  {
   "cell_type": "markdown",
   "metadata": {},
   "source": [
    "ALl points satisfy"
   ]
  },
  {
   "attachments": {
    "WhatsApp%20Image%202021-10-01%20at%2010.47.41%20PM.jpeg": {
     "image/jpeg": "[encoded data removed]"
    }
   },
   "cell_type": "markdown",
   "metadata": {},
   "source": [
    "# Question 1\n",
    "## Part e,f\n",
    "\n",
    "The main aim is to find the joint angles of the finger given the points on the plain. This case contains a spherical wrist with a tool. As the wrist is just perpendicularly above the plain, we can directly add 5cm to the desired point to get the dimensions of the spherical wrist. Next we calculate the DH parameters of the manipulator given the end effector position, taking the manipulator as a 3DOF model. Once we get the joint angles, the next step is to calculate the spherical joint angles. For this we take two vectors as shown. We find the rotation of vector 2 to vector 1 and subsquently find the euler angles for the same. Thus we get the required joint angles.\n",
    "\n",
    "THe values given in the question can be put and checked accordingly. \n",
    "![WhatsApp%20Image%202021-10-01%20at%2010.47.41%20PM.jpeg](attachment:WhatsApp%20Image%202021-10-01%20at%2010.47.41%20PM.jpeg)\n"
   ]
  },
  {
   "cell_type": "code",
   "execution_count": 43,
   "metadata": {},
   "outputs": [],
   "source": [
    "# https://stackoverflow.com/questions/45142959/calculate-rotation-matrix-to-align-two-vectors-in-3d-space\n",
    "def rotation_matrix_from_vectors(vec1, vec2):\n",
    "    \"\"\" Find the rotation matrix that aligns vec1 to vec2\n",
    "    :param vec1: A 3d \"source\" vector\n",
    "    :param vec2: A 3d \"destination\" vector\n",
    "    :return mat: A transform matrix (3x3) which when applied to vec1, aligns it with vec2.\n",
    "    \"\"\"\n",
    "    a, b = (vec1 / np.linalg.norm(vec1)).reshape(3), (vec2 / np.linalg.norm(vec2)).reshape(3)\n",
    "    v = np.cross(a, b)\n",
    "    c = np.dot(a, b)\n",
    "    s = np.linalg.norm(v)\n",
    "    kmat = np.array([[0, -v[2], v[1]], [v[2], 0, -v[0]], [-v[1], v[0], 0]])\n",
    "    rotation_matrix = np.eye(3) + kmat + kmat.dot(kmat) * ((1 - c) / (s ** 2))\n",
    "    return rotation_matrix"
   ]
  },
  {
   "cell_type": "code",
   "execution_count": 44,
   "metadata": {},
   "outputs": [],
   "source": [
    "class PUMA_wrist():\n",
    "    def __init__(self,d1=1,a2=1,a3=1):\n",
    "        self.d1 = d1\n",
    "        self.a2 = a2\n",
    "        self.a3 = a3\n",
    "\n",
    "    def inverse_kinematics_perpendicular(self,x,y,z):\n",
    "        xc,yc,zc = x,y,z+0.05\n",
    "        D = (xc**2 + yc**2 + (zc-self.d1)**2 - self.a2**2 - self.a3**2)/(2*self.a2*self.a3)\n",
    "        if abs(D)<=1:\n",
    "            def inv_func(x):\n",
    "                return [\n",
    "                        -xc + self.a2*np.cos(x[1])*np.cos(x[0]) + self.a3*np.cos(x[1]+x[2])*np.cos(x[0]),\n",
    "                        -yc + self.a2*np.cos(x[1])*np.sin(x[0]) + self.a3*np.cos(x[1]+x[2])*np.sin(x[0]),\n",
    "                        -zc + self.d1 + self.a2*np.sin(x[1]) + self.a3*np.sin(x[1]+x[2]),\n",
    "                        ]\n",
    "            root = fsolve(inv_func,[1,1,1])\n",
    "\n",
    "            q1,q2,q3 = root\n",
    "            q1,q2,q3 = angle_wrap(q1),angle_wrap(q2),angle_wrap(q3)\n",
    "                   # print(xc,yc,zc)\n",
    "            manipulator_config = ['R','R','R']\n",
    "            dh_params = [[0,np.pi/2,self.d1,q1],\n",
    "                        [self.a2,0,0,q2],\n",
    "                        [self.a3,0,0,q3]]\n",
    "            mani = DH_Calculator(dh_params,manipulator_config)\n",
    "            a = mani.find_DH()\n",
    "            joint_coordinates = []\n",
    "            for dh_matrix in a['transformation_matrices']:\n",
    "                joint_coordinates.append(dh_matrix[:3,-1])\n",
    "            \n",
    "            vector1 = joint_coordinates[-1] - joint_coordinates[-2]\n",
    "            vector2 = [xc-x,yc-y,zc -z]\n",
    "\n",
    "            rotation_matrix = rotation_matrix_from_vectors(vector2,vector1)\n",
    "            r = Rotation.from_matrix(rotation_matrix)\n",
    "            euler_angles = r.as_euler('zyx',degrees = False)\n",
    "            \n",
    "            joint_params = [q1,q2,q3,euler_angles[0],euler_angles[1],euler_angles[2]]\n",
    "\n",
    "            return joint_params \n",
    "        else:\n",
    "            print(\"No Solution can be Found!\")\n",
    "            return False,[None, None, None]\n",
    "        # return True,[q1,q2,q3,q4,q5]\n",
    "    \n",
    "    def forward_kinematics(self,q1,q2,q3,q4,q5,q6):\n",
    "        '''\n",
    "        Example of 3R revolute manipulator\n",
    "        '''\n",
    "        manipulator_config = ['R','R','R','R','R','R']\n",
    "        dh_params = [[0,np.pi/2,self.d1,q1],\n",
    "                    [self.a2,0,0,q2],\n",
    "                    [self.a3,0,0,q3],\n",
    "                    [0,-np.pi/2,0,q4],\n",
    "                    [0,np.pi/2,0,q5],\n",
    "                    [0.05,0,0,q6]]\n",
    "\n",
    "        mani = DH_Calculator(dh_params,manipulator_config)\n",
    "        a = mani.forward_kinematics()\n",
    "        print('transformation matrix')\n",
    "        print(np.round(a['transformation_matrix'].astype('float'),3))\n",
    "        \n"
   ]
  },
  {
   "cell_type": "code",
   "execution_count": 45,
   "metadata": {},
   "outputs": [
    {
     "data": {
      "text/plain": [
       "[3.306741334445725,\n",
       " 3.440525335314134,\n",
       " 5.466992691400219,\n",
       " 0.15993462328647734,\n",
       " 1.0301016383195338,\n",
       " -0.28129980190118786]"
      ]
     },
     "execution_count": 45,
     "metadata": {},
     "output_type": "execute_result"
    }
   ],
   "source": [
    "puma = PUMA_wrist(d1 = 0.25,a2=0.25, a3 = 0.25)\n",
    "# puma.forward_kinematics(0,0,0,0,0,0)\n",
    "puma.inverse_kinematics_perpendicular(0.45,0.075,0.25)\n"
   ]
  },
  {
   "cell_type": "code",
   "execution_count": 46,
   "metadata": {},
   "outputs": [],
   "source": [
    "class Stanford():\n",
    "    def __init__(self,d1=1,a2=1):\n",
    "        self.d1 = d1\n",
    "        self.a2 = a2    \n",
    "        self.max_primatic = 0.25\n",
    "    def inverse_kinematics_perpendicular(self,x,y,z):\n",
    "        xc,yc,zc = x,y,z+0.05\n",
    "        condition = xc**2 + yc**2 + (zc**2 - self.d1)**2 - (self.a2**2 + self.max_primatic**2) <= 0 and abs(zc - self.d1)<=self.max_primatic and xc**2 + yc**2>=self.a2**2\n",
    "        if condition:\n",
    "      \n",
    "            def inv_func(x):\n",
    "                return [\n",
    "                        self.a2*np.cos(x[0]) + x[2]*np.sin(x[1])*np.sin(x[0]) - xc,\n",
    "                        self.a2*np.sin(x[0]) + x[2]*np.sin(x[1])*np.cos(x[0]) - yc,\n",
    "                        self.d1 + x[2]*np.cos(x[1]) - zc\n",
    "                        ]\n",
    "            root = fsolve(inv_func,[1,1,1])\n",
    "\n",
    "            q1,q2,d = root\n",
    "            q1,q2 = angle_wrap(q1),angle_wrap(q2)\n",
    "            \n",
    "            manipulator_config = ['R','R','P']\n",
    "            dh_params = [[0,-np.pi/2,self.d1,q1],\n",
    "                        [0,np.pi/2,self.a2,q2],\n",
    "                        [0,0,d,0]]\n",
    "            mani = DH_Calculator(dh_params,manipulator_config)\n",
    "            a = mani.find_DH()\n",
    "            joint_coordinates = []\n",
    "            for dh_matrix in a['transformation_matrices']:\n",
    "                joint_coordinates.append(dh_matrix[:3,-1])\n",
    "            \n",
    "            joint_coordinates[0],joint_coordinates[1] = joint_coordinates[1],joint_coordinates[0]\n",
    "            vector1 = joint_coordinates[-1] - joint_coordinates[-2]\n",
    "            vector2 = [xc-x,yc-y,zc -z]\n",
    "\n",
    "            rotation_matrix = rotation_matrix_from_vectors(vector2,vector1)\n",
    "            r = Rotation.from_matrix(rotation_matrix)\n",
    "            euler_angles = r.as_euler('zyx',degrees = False)\n",
    "            euler_angles = [angle_wrap(i) for i in euler_angles]\n",
    "            joint_params = [q1,q2,0,euler_angles[0],euler_angles[1],euler_angles[2]]\n",
    "\n",
    "            return joint_params\n",
    "        else:\n",
    "            print(\"No Solution can be Found!\")\n",
    "            return False,[None, None, None,None,None]\n",
    "    \n",
    "    def forward_kinematics(self,q1,q2,d):\n",
    "        xc = self.a2*np.cos(q1) + d*np.sin(q2)*np.sin(q1)\n",
    "        yc = self.a2*np.sin(q1) + d*np.sin(q2)*np.cos(q1)\n",
    "        zc = self.d1 + d*np.cos(q2)\n",
    "\n",
    "        return xc,yc,zc"
   ]
  },
  {
   "cell_type": "code",
   "execution_count": 47,
   "metadata": {},
   "outputs": [
    {
     "data": {
      "text/plain": [
       "[0.20205962802024205,\n",
       " 0.4691323158829133,\n",
       " 0,\n",
       " 6.201936670771829,\n",
       " 6.184104483340172,\n",
       " 4.9097845402346385]"
      ]
     },
     "execution_count": 47,
     "metadata": {},
     "output_type": "execute_result"
    }
   ],
   "source": [
    "stan = Stanford(d1 = 0.25,a2 = 0.25)\n",
    "\n",
    "# xc,yc,zc = stan.forward_kinematics(0.5,0,0.2)\n",
    "stan.inverse_kinematics_perpendicular(0.25,0.075,0.25)"
   ]
  },
  {
   "cell_type": "code",
   "execution_count": 48,
   "metadata": {},
   "outputs": [],
   "source": [
    "class SCARA_wrist():\n",
    "    def __init__(self,d1=1,a1 = 1, a2=1):\n",
    "        self.d1 = d1\n",
    "        self.a1 = a1\n",
    "        self.a2 = a2\n",
    "        # self.a3 = a3\n",
    "    \n",
    "\n",
    "    def inverse_kinematics_perpendicular(self,x,y,z):\n",
    "        xc,yc,zc = x,y,z+0.05\n",
    "        if np.sqrt(xc**2+yc**2)>self.a2 + self.a1:\n",
    "            print(\"No Solution can be Found!\")\n",
    "            return False,[None, None, None]\n",
    "        else: \n",
    "            def inv_func(x):\n",
    "                return [\n",
    "                        - xc + self.a1*np.cos(x[0]) + self.a2*np.cos(x[0]+x[1]),\n",
    "                        - yc + self.a1*np.sin(x[0]) + self.a2*np.sin(x[0]+x[1]),\n",
    "                        - zc + self.d1 - x[2]\n",
    "                        ]\n",
    "            root = fsolve(inv_func,[1,1,1])\n",
    "\n",
    "            q1,q2,d = root\n",
    "            q1,q2 = angle_wrap(q1),angle_wrap(q2)\n",
    "\n",
    "            joint_params = [q1,q2,0,0,0,0]\n",
    "\n",
    "            return joint_params\n",
    "\n",
    "\n",
    "    \n",
    "    def forward_kinematics(self,q1,q2,d):\n",
    "\n",
    "        xc = self.a1*np.cos(q1) + self.a2*np.cos(q1+q2)\n",
    "        yc = self.a1*np.sin(q1) + self.a2*np.sin(q1+q2)\n",
    "        zc = self.d1 - d\n",
    "\n",
    "        return xc,yc,zc"
   ]
  },
  {
   "cell_type": "code",
   "execution_count": 49,
   "metadata": {},
   "outputs": [
    {
     "name": "stdout",
     "output_type": "stream",
     "text": [
      "[6.026682730197578, 0.8433025087933601, 0, 0, 0, 0]\n"
     ]
    }
   ],
   "source": [
    "stan = SCARA_wrist(d1 = 0.25,a1 = 0.25 , a2 = 0.25)\n",
    "print(stan.inverse_kinematics_perpendicular(0.45,0.075,0.25))\n"
   ]
  },
  {
   "cell_type": "code",
   "execution_count": null,
   "metadata": {},
   "outputs": [],
   "source": []
  }
 ],
 "metadata": {
  "interpreter": {
   "hash": "18c1725772877ae71f911b07fa0a0bde2e626f5cb374d4a340e10f9cff87f69b"
  },
  "kernelspec": {
   "display_name": "Python 3",
   "language": "python",
   "name": "python3"
  },
  "language_info": {
   "codemirror_mode": {
    "name": "ipython",
    "version": 3
   },
   "file_extension": ".py",
   "mimetype": "text/x-python",
   "name": "python",
   "nbconvert_exporter": "python",
   "pygments_lexer": "ipython3",
   "version": "3.8.3"
  }
 },
 "nbformat": 4,
 "nbformat_minor": 2
}
